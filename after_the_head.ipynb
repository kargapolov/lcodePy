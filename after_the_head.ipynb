{
 "cells": [
  {
   "cell_type": "code",
   "execution_count": 1,
   "metadata": {},
   "outputs": [],
   "source": [
    "# Import required modules\n",
    "from copy import copy\n",
    "\n",
    "import numpy as np\n",
    "import time\n",
    "\n",
    "from lcode2dPy.plasma3d.initialization import init_plasma\n",
    "from lcode2dPy.plasma3d.solver import Plane2d3vPlasmaSolver\n",
    "\n",
    "from lcode2dPy.config.default_config import default_config"
   ]
  },
  {
   "cell_type": "code",
   "execution_count": 2,
   "metadata": {},
   "outputs": [],
   "source": [
    "# Create a config\n",
    "config = copy(default_config)\n",
    "\n",
    "config.update({\n",
    "    'geometry': '3d',\n",
    "    'processing-unit-type': 'npu',\n",
    "    'window-width-step-size': 0.05,\n",
    "    'window-width': 20,\n",
    "\n",
    "    'window-length': 5,\n",
    "    'xi-step': 0.05,\n",
    "\n",
    "    'time-limit': 1e-10,\n",
    "    'time-step': 1e-10,\n",
    "\n",
    "    'plasma-particles-per-cell': 1,\n",
    "    'noise-reductor-amplitude': 1\n",
    "})\n",
    "\n",
    "# Make ready a plasma solver\n",
    "solver = Plane2d3vPlasmaSolver(config)"
   ]
  },
  {
   "cell_type": "code",
   "execution_count": 3,
   "metadata": {},
   "outputs": [],
   "source": [
    "# Create a transversal grid and a beam charge distribution\n",
    "grid_steps     = config.getint('window-width-steps')\n",
    "grid_step_size = config.getfloat('window-width-step-size')\n",
    "\n",
    "grid = ((np.arange(grid_steps) - grid_steps // 2)\n",
    "        * grid_step_size)\n",
    "xs, ys = grid[:, None], grid[None, :]\n",
    "\n",
    "def rho_b(xi):\n",
    "    COMPRESS, BOOST, SIGMA, SHIFT = 1, 1, 1, 0\n",
    "    if xi < -2 * np.sqrt(2 * np.pi) / COMPRESS or xi > 0:\n",
    "        return 0.\n",
    "        # return np.zeros_like(xs)\n",
    "    r = np.sqrt(xs**2 + (ys - SHIFT)**2)\n",
    "    return (.05 * BOOST * np.exp(-.5 * (r / SIGMA)**2) *\n",
    "            (1 - np.cos(xi * COMPRESS * np.sqrt(np.pi / 2))))"
   ]
  },
  {
   "cell_type": "code",
   "execution_count": 5,
   "metadata": {},
   "outputs": [
    {
     "name": "stderr",
     "output_type": "stream",
     "text": [
      "/home/ivan/.local/lib/python3.10/site-packages/numba/cuda/cudadrv/devicearray.py:885: NumbaPerformanceWarning: \u001b[1mHost array used in CUDA kernel will incur copy overhead to/from device.\u001b[0m\n",
      "  warn(NumbaPerformanceWarning(msg))\n",
      "/home/ivan/Desktop/work/lcodePy-test1-benchmarking/lcodePy/lcode2dPy/plasma3d_gpu/initialization.py:65: RuntimeWarning: divide by zero encountered in true_divide\n",
      "  mul = 1 / (lambda_i + lambda_j)  # WARNING: zero division in mul[0, 0]!\n"
     ]
    },
    {
     "name": "stdout",
     "output_type": "stream",
     "text": [
      "xi=+0.0000 +3.2717e-20\n",
      "xi=-0.0200 -7.2461e-08\n",
      "xi=-0.0400 -4.3470e-07\n",
      "xi=-0.0600 -1.3762e-06\n",
      "xi=-0.0800 -3.1858e-06\n",
      "xi=-0.1000 -6.1516e-06\n",
      "xi=-0.1200 -1.0560e-05\n",
      "xi=-0.1400 -1.6697e-05\n",
      "xi=-0.1600 -2.4846e-05\n",
      "xi=-0.1800 -3.5287e-05\n",
      "xi=-0.2000 -4.8301e-05\n",
      "xi=-0.2200 -6.4164e-05\n",
      "xi=-0.2400 -8.3149e-05\n",
      "xi=-0.2600 -1.0553e-04\n",
      "xi=-0.2800 -1.3156e-04\n",
      "xi=-0.3000 -1.6152e-04\n",
      "xi=-0.3200 -1.9566e-04\n",
      "xi=-0.3400 -2.3424e-04\n",
      "xi=-0.3600 -2.7750e-04\n",
      "xi=-0.3800 -3.2570e-04\n",
      "xi=-0.4000 -3.7906e-04\n",
      "xi=-0.4200 -4.3783e-04\n",
      "xi=-0.4400 -5.0224e-04\n",
      "xi=-0.4600 -5.7250e-04\n",
      "xi=-0.4800 -6.4884e-04\n",
      "xi=-0.5000 -7.3146e-04\n",
      "xi=-0.5200 -8.2058e-04\n",
      "xi=-0.5400 -9.1638e-04\n",
      "xi=-0.5600 -1.0191e-03\n",
      "xi=-0.5800 -1.1288e-03\n",
      "xi=-0.6000 -1.2458e-03\n",
      "xi=-0.6200 -1.3702e-03\n",
      "xi=-0.6400 -1.5021e-03\n",
      "xi=-0.6600 -1.6418e-03\n",
      "xi=-0.6800 -1.7893e-03\n",
      "xi=-0.7000 -1.9448e-03\n",
      "xi=-0.7200 -2.1085e-03\n",
      "xi=-0.7400 -2.2804e-03\n",
      "xi=-0.7600 -2.4606e-03\n",
      "xi=-0.7800 -2.6493e-03\n",
      "xi=-0.8000 -2.8465e-03\n",
      "xi=-0.8200 -3.0524e-03\n",
      "xi=-0.8400 -3.2670e-03\n",
      "xi=-0.8600 -3.4903e-03\n",
      "xi=-0.8800 -3.7224e-03\n",
      "xi=-0.9000 -3.9634e-03\n",
      "xi=-0.9200 -4.2133e-03\n",
      "xi=-0.9400 -4.4721e-03\n",
      "xi=-0.9600 -4.7398e-03\n",
      "xi=-0.9800 -5.0165e-03\n",
      "xi=-1.0000 -5.3020e-03\n",
      "--- 13.503729820251465 seconds ---\n"
     ]
    }
   ],
   "source": [
    "# Create the first plasma slice\n",
    "fields, particles, currents, const_arrays = init_plasma(config)\n",
    "\n",
    "# Simulation loop:\n",
    "start_time = time.time()\n",
    "xi_step_size = config.getfloat('xi-step')\n",
    "xi_steps = int(config.getfloat('window-length') / xi_step_size)\n",
    "ez = []\n",
    "phi = []\n",
    "xi_arr = []\n",
    "\n",
    "ro_beam_prev = 0\n",
    "\n",
    "gpu_index = 0\n",
    "\n",
    "with np.cuda.Device(gpu_index):\n",
    "    for xi_i in range(xi_steps + 1):\n",
    "        xi = - xi_i * xi_step_size\n",
    "        \n",
    "        ro_beam = rho_b(xi)\n",
    "        ro_beam_prev = rho_b(xi + xi_step_size)\n",
    "\n",
    "        particles, fields, currents = solver.step_dxi(\n",
    "            particles, fields, currents, const_arrays, ro_beam, ro_beam_prev\n",
    "        )\n",
    "\n",
    "        ez.append(fields.Ez[grid_steps // 2, grid_steps // 2])\n",
    "        phi.append(fields.Phi[grid_steps // 2, grid_steps // 2])\n",
    "        xi_arr.append(xi)\n",
    "        if xi_i % 1. == 0:\n",
    "            print(f'xi={xi:+.4f} {ez[-1]:+.4e}')\n",
    "            \n",
    "        # if xi % 25. == 0:\n",
    "        #     view_currents = GPUArraysView(currents)\n",
    "        #     ro_diagnostics(xi, view_currents.ro)\n",
    "        #     np.savez('log', xi=xi_arr, Ez_00=ez)\n",
    "    \n",
    "print(\"--- %s seconds ---\" % (time.time() - start_time))"
   ]
  },
  {
   "cell_type": "code",
   "execution_count": 6,
   "metadata": {},
   "outputs": [],
   "source": [
    "np.savez_compressed(\n",
    "    file='plasmastate_after_the_head',\n",
    "    x_offt=particles.x_offt, y_offt=particles.y_offt,\n",
    "    px=particles.px, py=particles.py, pz=particles.pz,\n",
    "    Ex=fields.Ex, Ey=fields.Ey, Ez=fields.Ez,\n",
    "    Bx=fields.Bx, By=fields.By, Bz=fields.Bz,\n",
    "    Phi=fields.Phi, ro=currents.ro,\n",
    "    jx=currents.jx, jy=currents.jy, jz=currents.jz\n",
    ")"
   ]
  },
  {
   "cell_type": "code",
   "execution_count": null,
   "metadata": {},
   "outputs": [],
   "source": [
    "import matplotlib.pyplot as plt"
   ]
  },
  {
   "cell_type": "code",
   "execution_count": null,
   "metadata": {},
   "outputs": [],
   "source": [
    "def rho_b(xi, r):\n",
    "    COMPRESS, BOOST, SIGMA, SHIFT = 1, 1, 1, 0\n",
    "    if xi < -2 * np.sqrt(2 * np.pi) / COMPRESS or xi > 0:\n",
    "        return 0.\n",
    "        # return np.zeros_like(xs)\n",
    "    return (.05 * BOOST * np.exp(-.5 * (r / SIGMA)**2) *\n",
    "            (1 - np.cos(xi * COMPRESS * np.sqrt(np.pi / 2))))\n",
    "\n",
    "rho_beam = [rho_b(xi, 0) for xi in np.linspace(-5, 0, 50)]"
   ]
  },
  {
   "cell_type": "code",
   "execution_count": null,
   "metadata": {},
   "outputs": [
    {
     "data": {
      "text/plain": [
       "[<matplotlib.lines.Line2D at 0x7fb5aa3d9c30>]"
      ]
     },
     "execution_count": 9,
     "metadata": {},
     "output_type": "execute_result"
    },
    {
     "data": {
      "image/png": "[encoded data removed]",
      "text/plain": [
       "<Figure size 1050x450 with 1 Axes>"
      ]
     },
     "metadata": {
      "needs_background": "light"
     },
     "output_type": "display_data"
    }
   ],
   "source": [
    "plt.figure(figsize = (7, 3), dpi=150)\n",
    "plt.ylim(-.55, .55)\n",
    "plt.xlim(-6, 0)\n",
    "\n",
    "plt.hlines(0, -6.1, 0, color='grey', lw=1)\n",
    "plt.vlines(-5, -.55, .55, color='grey', lw=1)\n",
    "\n",
    "plt.plot(xi_arr, ez,  color='tab:green')\n",
    "plt.plot(xi_arr, phi, color='tab:orange')\n",
    "plt.plot(np.linspace(-5, 0, 50), rho_beam,  color='tab:blue')"
   ]
  },
  {
   "cell_type": "code",
   "execution_count": null,
   "metadata": {},
   "outputs": [],
   "source": [
    "# Should work correctly. Compare results with:\n",
    "# xi         Ez_00\n",
    "# xi=+0.0000 +0.0000e+00\n",
    "# xi=+0.0200 -1.4490e-07\n",
    "# xi=+0.0400 -7.2443e-07\n",
    "# xi=+0.0600 -2.0278e-06\n",
    "# xi=+0.0800 -4.3436e-06\n",
    "# xi=+0.1000 -7.9592e-06\n",
    "# xi=+0.1200 -1.3161e-05\n",
    "# xi=+0.1400 -2.0233e-05\n",
    "# xi=+0.1600 -2.9458e-05\n",
    "# xi=+0.1800 -4.1116e-05\n",
    "# xi=+0.2000 -5.5486e-05\n",
    "# xi=+0.2200 -7.2842e-05\n",
    "# xi=+0.2400 -9.3456e-05\n",
    "# xi=+0.2600 -1.1760e-04\n",
    "# xi=+0.2800 -1.4553e-04\n",
    "# xi=+0.3000 -1.7751e-04\n",
    "# xi=+0.3200 -2.1381e-04\n",
    "# xi=+0.3400 -2.5467e-04\n",
    "# xi=+0.3600 -3.0033e-04\n",
    "# xi=+0.3800 -3.5105e-04\n",
    "# xi=+0.4000 -4.0706e-04\n",
    "# xi=+0.4200 -4.6859e-04\n",
    "# xi=+0.4400 -5.3587e-04\n",
    "# xi=+0.4600 -6.0912e-04\n",
    "# xi=+0.4800 -6.8855e-04\n",
    "# xi=+0.5000 -7.7437e-04"
   ]
  },
  {
   "cell_type": "code",
   "execution_count": null,
   "metadata": {},
   "outputs": [],
   "source": []
  }
 ],
 "metadata": {
  "kernelspec": {
   "display_name": "Python 3.10.4 64-bit",
   "language": "python",
   "name": "python3"
  },
  "language_info": {
   "codemirror_mode": {
    "name": "ipython",
    "version": 3
   },
   "file_extension": ".py",
   "mimetype": "text/x-python",
   "name": "python",
   "nbconvert_exporter": "python",
   "pygments_lexer": "ipython3",
   "version": "3.10.6"
  },
  "orig_nbformat": 2,
  "vscode": {
   "interpreter": {
    "hash": "31f2aee4e71d21fbe5cf8b01ff0e069b9275f58929596ceb00d14d90e3e16cd6"
   }
  }
 },
 "nbformat": 4,
 "nbformat_minor": 2
}
