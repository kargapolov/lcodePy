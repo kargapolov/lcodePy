{
 "cells": [
  {
   "cell_type": "code",
   "execution_count": 1,
   "metadata": {},
   "outputs": [],
   "source": [
    "import numpy as np\n",
    "from lcode2dPy import DiagnosticsFXi, DiagnosticsColormaps, DiagnosticsTransverse, SaveRunState, Cartesian3dSimulation\n",
    "from config import config"
   ]
  },
  {
   "cell_type": "code",
   "execution_count": 14,
   "metadata": {},
   "outputs": [],
   "source": [
    "# We create a separate config that will allow us to create a plasma state with\n",
    "# only one ion and an electron.\n",
    "config_create_plasmastate = config.copy()\n",
    "config_create_plasmastate['processing-unit-type'] = 'cpu'\n",
    "config_create_plasmastate['window-length'] = -config_create_plasmastate['xi-step']\n",
    "grid_step_size = config_create_plasmastate['window-width-step-size']"
   ]
  },
  {
   "cell_type": "code",
   "execution_count": null,
   "metadata": {},
   "outputs": [],
   "source": [
    "# First, we create a plasmastate with all the required arrays:\n",
    "diag = [SaveRunState(output_period=0, save_plasma=True,\n",
    "                     unique_directory_name='_initial')]\n",
    "beam_parameters = {'beam':{'ampl':0}}\n",
    "sim = Cartesian3dSimulation(config=config_create_plasmastate, diagnostics=diag,\n",
    "                            beam_parameters=beam_parameters)\n",
    "\n",
    "sim.step()\n",
    "\n",
    "plasmastate_initial = np.load('run_states_initial/plasmastate_00000.00.npz')"
   ]
  },
  {
   "cell_type": "code",
   "execution_count": 16,
   "metadata": {},
   "outputs": [],
   "source": [
    "from lcode2dPy.plasma3d.initialization import get_deposit_plasma\n",
    "from lcode2dPy.config.config import Config\n",
    "from lcode2dPy.plasma3d.data import Arrays\n",
    "\n",
    "initial_deposition = get_deposit_plasma(Config(config_create_plasmastate))"
   ]
  },
  {
   "cell_type": "code",
   "execution_count": 17,
   "metadata": {},
   "outputs": [],
   "source": [
    "# Now we create a single ion macroparticle:\n",
    "# Here you can set the position, charge and mass of the ion macroparticle:\n",
    "x_init_ion, y_init_ion = 1., 1.\n",
    "q_ion, m_ion = 1. * grid_step_size ** 2, 1. * grid_step_size ** 2\n",
    "\n",
    "ion_particle = Arrays(xp=np, x_init=x_init_ion, y_init=y_init_ion,\n",
    "                      q=q_ion, m=m_ion,\n",
    "                      x_offt=0., y_offt=0., px=0., py=0., pz=0.)\n",
    "\n",
    "# Here we create the charge density distribution of the single ion macroparticle:\n",
    "rho_of_one_ion = initial_deposition(ion_particle, Arrays(xp=np))[0]"
   ]
  },
  {
   "cell_type": "code",
   "execution_count": 18,
   "metadata": {},
   "outputs": [],
   "source": [
    "# import matplotlib.pyplot as plt\n",
    "\n",
    "# plt.imshow(rho_of_one_ion)\n",
    "# plt.colorbar()"
   ]
  },
  {
   "cell_type": "code",
   "execution_count": 9,
   "metadata": {},
   "outputs": [],
   "source": [
    "# Now we create a single electron:\n",
    "x_init, y_init = x_init_ion, y_init_ion\n",
    "q, m = -.1 * grid_step_size ** 2, 1. * grid_step_size ** 2\n",
    "px, py, pz = 0.1, 0., 0.\n",
    "\n",
    "particles = Arrays(np, x_init=x_init, y_init=y_init,\n",
    "                   x_offt=0., y_offt=0., px=px, py=py, pz=pz,\n",
    "                   q=q, m=m,\n",
    "                   dx_chaotic=0., dy_chaotic=0.,\n",
    "                   dx_chaotic_perp=0., dy_chaotic_perp=0.)"
   ]
  },
  {
   "cell_type": "code",
   "execution_count": 19,
   "metadata": {},
   "outputs": [],
   "source": [
    "# If we don't need electrons:\n",
    "# particles = Arrays(np, x_init=0., y_init=0.,\n",
    "#                    x_offt=0., y_offt=0., px=0., py=0., pz=0.,\n",
    "#                    q=0., m=0.,\n",
    "#                    dx_chaotic=0., dy_chaotic=0.,\n",
    "#                    dx_chaotic_perp=0., dy_chaotic_perp=0.)"
   ]
  },
  {
   "cell_type": "code",
   "execution_count": 20,
   "metadata": {},
   "outputs": [],
   "source": [
    "np.savez_compressed(\n",
    "    file='plasmastate_with_one_ion',\n",
    "    ro_initial=rho_of_one_ion,\n",
    "\n",
    "    xi_plasma_layer=np.array([-config_create_plasmastate['xi-step']]),\n",
    "    x_init=particles.x_init, y_init=particles.y_init,\n",
    "    x_offt=particles.x_offt, y_offt=particles.y_offt,\n",
    "    px=particles.px, py=particles.py, pz=particles.pz,\n",
    "    q=particles.q, m=particles.m,\n",
    "    \n",
    "    dx_chaotic=particles.dx_chaotic,\n",
    "    dy_chaotic=particles.dy_chaotic,\n",
    "    dx_chaotic_perp=particles.dx_chaotic_perp,\n",
    "    dy_chaotic_perp=particles.dy_chaotic_perp,\n",
    "\n",
    "    Ex=plasmastate_initial['Ex'], Ey=plasmastate_initial['Ey'], Ez=plasmastate_initial['Ez'],\n",
    "    Bx=plasmastate_initial['Bx'], By=plasmastate_initial['By'], Bz=plasmastate_initial['Bz'],\n",
    "\n",
    "    Phi=plasmastate_initial['Phi'], ro=plasmastate_initial['ro'],\n",
    "    jx=plasmastate_initial['jx'], jy=plasmastate_initial['jy'], jz=plasmastate_initial['jz']\n",
    ")"
   ]
  },
  {
   "cell_type": "code",
   "execution_count": null,
   "metadata": {},
   "outputs": [],
   "source": [
    "diag = [DiagnosticsTransverse(output_period=0, saving_xi_period=1,\n",
    "                              colormaps='rho', colormaps_type='pictures')]\n",
    "beam_parameters = {'beam':{'ampl':0}}\n",
    "sim = Cartesian3dSimulation(config=config, diagnostics=diag,\n",
    "                            beam_parameters=beam_parameters)\n",
    "\n",
    "sim.external_plasmastate = True\n",
    "sim.path_to_plasmastate = 'plasmastate_with_one_ion.npz'\n",
    "\n",
    "sim.step()"
   ]
  },
  {
   "cell_type": "code",
   "execution_count": null,
   "metadata": {},
   "outputs": [],
   "source": []
  }
 ],
 "metadata": {
  "kernelspec": {
   "display_name": "Python 3.10.10 ('myenv')",
   "language": "python",
   "name": "python3"
  },
  "language_info": {
   "codemirror_mode": {
    "name": "ipython",
    "version": 3
   },
   "file_extension": ".py",
   "mimetype": "text/x-python",
   "name": "python",
   "nbconvert_exporter": "python",
   "pygments_lexer": "ipython3",
   "version": "3.10.10"
  },
  "orig_nbformat": 4,
  "vscode": {
   "interpreter": {
    "hash": "cfa1c9bfdf2b2059721375403635703fbc57302512f06c7e9e9d64e01f1d98b6"
   }
  }
 },
 "nbformat": 4,
 "nbformat_minor": 2
}
