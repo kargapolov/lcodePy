{
 "cells": [
  {
   "cell_type": "code",
   "execution_count": 1,
   "metadata": {},
   "outputs": [],
   "source": [
    "# Imports required modules\n",
    "import numba\n",
    "import numpy as np\n",
    "from math import pi\n",
    "\n",
    "from only_head import calculate_head\n",
    "\n",
    "from lcode2dPy import DiagnosticsFXi, DiagnosticsColormaps, \\\n",
    "                      DiagnosticsTransverse, SaveRunState, Cartesian3dSimulation"
   ]
  },
  {
   "cell_type": "code",
   "execution_count": 2,
   "metadata": {},
   "outputs": [
    {
     "name": "stdout",
     "output_type": "stream",
     "text": [
      "8\n"
     ]
    }
   ],
   "source": [
    "# Checks the number of available threads.\n",
    "print(numba.config.NUMBA_NUM_THREADS) \n",
    "\n",
    "# Here you can set the number of threads you want to use.\n",
    "# Your number must be less than numba.config.NUMBA NUM_THREADS.\n",
    "numba.set_num_threads(2)"
   ]
  },
  {
   "cell_type": "code",
   "execution_count": null,
   "metadata": {},
   "outputs": [],
   "source": [
    "# Sets parameters of test 1:\n",
    "config = {\n",
    "    'geometry': '3d',\n",
    "    'processing-unit-type': 'cpu',\n",
    "    'window-width-step-size': 0.05,\n",
    "    'window-width': 16,\n",
    "\n",
    "    'window-length': 5, # Not including the head!!!\n",
    "    'xi-step': 0.05,\n",
    "\n",
    "    'time-limit': 1e-10,\n",
    "    'time-step': 1e-10,\n",
    "\n",
    "    'plasma-particles-per-cell': 1,\n",
    "    'noise-reductor-amplitude': 1\n",
    "}\n",
    "\n",
    "# Sets the charge distribution for test 1 beam:\n",
    "COMPRESS, BOOST, SIGMA, SHIFT = 1, 1, 1, 0\n",
    "def rho_b_test1(xi, x_grid, y_grid):\n",
    "    if xi < -2 * np.sqrt(2 * np.pi) / COMPRESS or xi > 0:\n",
    "        return 0.\n",
    "        # return np.zeros_like(xs)\n",
    "    r = np.sqrt(x_grid**2 + (y_grid - SHIFT)**2)\n",
    "    return (.05 * BOOST * np.exp(-.5 * (r / SIGMA)**2) *\n",
    "            (1 - np.cos(xi * COMPRESS * np.sqrt(np.pi / 2))))\n",
    "\n",
    "print('The length of a beam is', 2 * np.sqrt(2 * np.pi) / COMPRESS)"
   ]
  },
  {
   "cell_type": "code",
   "execution_count": null,
   "metadata": {},
   "outputs": [],
   "source": [
    "# You can calculate the head only once.\n",
    "calculate_head(window_length=5.1, config_dictionary=config, rho_b=rho_b_test1)"
   ]
  },
  {
   "cell_type": "code",
   "execution_count": 5,
   "metadata": {},
   "outputs": [],
   "source": [
    "# Should work correctly. Compare results with Ez below.\n",
    "# The numbers should be close enough.\n",
    "\n",
    "# xi=+0.0000 Ez=-0.0000e+00\n",
    "# xi=-0.0200 Ez=-2.9321e-07\n",
    "# xi=-0.0400 Ez=-8.8055e-07\n",
    "# xi=-0.0600 Ez=-2.0405e-06\n",
    "# xi=-0.0800 Ez=-4.1982e-06\n",
    "# xi=-0.1000 Ez=-7.4573e-06\n",
    "# xi=-0.1200 Ez=-1.2074e-05\n",
    "# xi=-0.1400 Ez=-1.8043e-05\n",
    "# xi=-0.1600 Ez=-2.5885e-05\n",
    "# xi=-0.1800 Ez=-3.5613e-05\n",
    "# xi=-0.2000 Ez=-4.7634e-05\n",
    "# xi=-0.2200 Ez=-6.4111e-05\n",
    "# xi=-0.2400 Ez=-8.4316e-05\n",
    "# xi=-0.2600 Ez=-1.0699e-04\n",
    "# xi=-0.2800 Ez=-1.3406e-04\n",
    "# xi=-0.3000 Ez=-1.6460e-04\n",
    "# xi=-0.3200 Ez=-1.9717e-04\n",
    "# xi=-0.3400 Ez=-2.3431e-04\n",
    "# xi=-0.3600 Ez=-2.7690e-04\n",
    "# xi=-0.3800 Ez=-3.2427e-04\n",
    "# xi=-0.4000 Ez=-3.7701e-04\n",
    "# xi=-0.4200 Ez=-4.3480e-04\n",
    "# xi=-0.4400 Ez=-4.9688e-04\n",
    "# xi=-0.4600 Ez=-5.6706e-04\n",
    "# xi=-0.4800 Ez=-6.4730e-04\n",
    "# xi=-0.5000 Ez=-7.3259e-04"
   ]
  },
  {
   "cell_type": "code",
   "execution_count": 6,
   "metadata": {},
   "outputs": [],
   "source": [
    "# Sets diagnostics and their parameters:\n",
    "diag = [DiagnosticsFXi(\n",
    "            output_period=0, saving_xi_period=10, f_xi='Ez', f_xi_type='both'),\n",
    "        DiagnosticsTransverse(\n",
    "            output_period=0, saving_xi_period=1, colormaps='rho,x_offt,y_offt',\n",
    "            colormaps_type='both'),\n",
    "        DiagnosticsColormaps(\n",
    "            output_period=0, colormaps='Ez, rho'),\n",
    "        SaveRunState(\n",
    "            saving_period=0, save_plasma=True)]\n",
    "\n",
    "# and beam parameters:\n",
    "beam_parameters = {'beam':{'ampl':0}}\n",
    "\n",
    "# beam_parameters = {'current': 0.01 * (2*pi), 'particles_in_layer': 2000}"
   ]
  },
  {
   "cell_type": "code",
   "execution_count": 7,
   "metadata": {},
   "outputs": [],
   "source": [
    "sim = Cartesian3dSimulation(config=config, diagnostics=diag,\n",
    "                            beam_parameters=beam_parameters)\n",
    "\n",
    "# Use it if you want to start from a plasmastate:\n",
    "sim.external_plasmastate = True\n",
    "sim.path_to_plasmastate = 'plasmastate_after_the_head.npz'"
   ]
  },
  {
   "cell_type": "code",
   "execution_count": null,
   "metadata": {},
   "outputs": [],
   "source": [
    "sim.step()"
   ]
  },
  {
   "cell_type": "code",
   "execution_count": null,
   "metadata": {},
   "outputs": [],
   "source": []
  }
 ],
 "metadata": {
  "kernelspec": {
   "display_name": "base",
   "language": "python",
   "name": "python3"
  },
  "language_info": {
   "codemirror_mode": {
    "name": "ipython",
    "version": 3
   },
   "file_extension": ".py",
   "mimetype": "text/x-python",
   "name": "python",
   "nbconvert_exporter": "python",
   "pygments_lexer": "ipython3",
   "version": "3.9.12"
  },
  "orig_nbformat": 2,
  "vscode": {
   "interpreter": {
    "hash": "52f1a141aa8a7a23d41eee701d40af8218b46149495cf8dd4c4bd12bcb554499"
   }
  }
 },
 "nbformat": 4,
 "nbformat_minor": 2
}
