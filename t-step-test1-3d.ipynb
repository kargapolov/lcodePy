{
 "cells": [
  {
   "cell_type": "markdown",
   "metadata": {},
   "source": [
    "### Test 1 for lcode 3d with a single time step and an alternative beam generator."
   ]
  },
  {
   "cell_type": "code",
   "execution_count": 1,
   "metadata": {},
   "outputs": [],
   "source": [
    "# Import required modules\n",
    "from math import pi, inf\n",
    "\n",
    "from lcode2dPy import *\n",
    "\n",
    "# Set some parameters of the config:\n",
    "config = {\n",
    "    'geometry': '3d',\n",
    "    'processing-unit-type': 'cpu',\n",
    "    'window-width-step-size': 0.02,\n",
    "    'window-width': 16,\n",
    "\n",
    "    'window-length': 0.5,\n",
    "    'xi-step': 0.02,\n",
    "\n",
    "    'time-limit': 100.5,\n",
    "    'time-step': 100,\n",
    "\n",
    "    'plasma-particles-per-cell': 1,\n",
    "    'noise-reductor-amplitude': 1\n",
    "}\n",
    "\n",
    "# Set diagnostics\n",
    "diag = [DiagnosticsFXi(f_xi='Ez, Ex', output_period=0),\n",
    "        DiagnosticsColormaps(output_period=0, colormaps='Ez'),\n",
    "        SaveRunState(saving_period=0, save_beam=True)]"
   ]
  },
  {
   "cell_type": "code",
   "execution_count": 2,
   "metadata": {},
   "outputs": [],
   "source": [
    "# Create a beam\n",
    "\n",
    "beam_parameters = {'current': 0.01 * (2*pi), 'particles_in_layer': 2000}\n",
    "\n",
    "beam_particles = generate_beam(config=config, beam_parameters=beam_parameters)"
   ]
  },
  {
   "cell_type": "code",
   "execution_count": 3,
   "metadata": {},
   "outputs": [],
   "source": [
    "sim = Cartesian3dSimulation(config=config, diagnostics=diag,\n",
    "                            beam_parameters=beam_parameters)\n",
    "# sim.load_beamfile('beamfile_1.npz')\n",
    "# sim.load_plasmastate('plasmastate.npz')"
   ]
  },
  {
   "cell_type": "code",
   "execution_count": null,
   "metadata": {},
   "outputs": [],
   "source": [
    "sim.step()"
   ]
  },
  {
   "cell_type": "code",
   "execution_count": null,
   "metadata": {},
   "outputs": [],
   "source": [
    "# Should work correctly. Compare results with the test 1 result with a rigid beam:\n",
    "# xi         Ez_00\n",
    "# xi=+0.0000 +0.0000e+00\n",
    "# xi=+0.0200 -1.4490e-07\n",
    "# xi=+0.0400 -7.2443e-07\n",
    "# xi=+0.0600 -2.0278e-06\n",
    "# xi=+0.0800 -4.3436e-06\n",
    "# xi=+0.1000 -7.9592e-06\n",
    "# xi=+0.1200 -1.3161e-05\n",
    "# xi=+0.1400 -2.0233e-05\n",
    "# xi=+0.1600 -2.9458e-05\n",
    "# xi=+0.1800 -4.1116e-05\n",
    "# xi=+0.2000 -5.5486e-05\n",
    "# xi=+0.2200 -7.2842e-05\n",
    "# xi=+0.2400 -9.3456e-05\n",
    "# xi=+0.2600 -1.1760e-04\n",
    "# xi=+0.2800 -1.4553e-04\n",
    "# xi=+0.3000 -1.7751e-04\n",
    "# xi=+0.3200 -2.1381e-04\n",
    "# xi=+0.3400 -2.5467e-04\n",
    "# xi=+0.3600 -3.0033e-04\n",
    "# xi=+0.3800 -3.5105e-04\n",
    "# xi=+0.4000 -4.0706e-04\n",
    "# xi=+0.4200 -4.6859e-04\n",
    "# xi=+0.4400 -5.3587e-04\n",
    "# xi=+0.4600 -6.0912e-04\n",
    "# xi=+0.4800 -6.8855e-04\n",
    "# xi=+0.5000 -7.7437e-04"
   ]
  },
  {
   "cell_type": "code",
   "execution_count": null,
   "metadata": {},
   "outputs": [],
   "source": []
  }
 ],
 "metadata": {
  "kernelspec": {
   "display_name": "Python 3.9.12 ('base')",
   "language": "python",
   "name": "python3"
  },
  "language_info": {
   "codemirror_mode": {
    "name": "ipython",
    "version": 3
   },
   "file_extension": ".py",
   "mimetype": "text/x-python",
   "name": "python",
   "nbconvert_exporter": "python",
   "pygments_lexer": "ipython3",
   "version": "3.9.12"
  },
  "orig_nbformat": 2,
  "vscode": {
   "interpreter": {
    "hash": "52f1a141aa8a7a23d41eee701d40af8218b46149495cf8dd4c4bd12bcb554499"
   }
  }
 },
 "nbformat": 4,
 "nbformat_minor": 2
}
